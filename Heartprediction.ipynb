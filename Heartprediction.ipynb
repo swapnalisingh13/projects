{
  "nbformat": 4,
  "nbformat_minor": 0,
  "metadata": {
    "colab": {
      "provenance": []
    },
    "kernelspec": {
      "name": "python3",
      "display_name": "Python 3"
    },
    "language_info": {
      "name": "python"
    }
  },
  "cells": [
    {
      "cell_type": "code",
      "execution_count": 123,
      "metadata": {
        "id": "Q113FceKPbdt"
      },
      "outputs": [],
      "source": [
        "import pandas as pd\n",
        "import numpy as np\n",
        "import matplotlib.pyplot as plt\n",
        "import seaborn as sns\n",
        "from scipy.stats import chi2_contingency\n",
        "from sklearn.preprocessing import StandardScaler\n",
        "from sklearn.decomposition import PCA\n",
        "from sklearn.preprocessing import LabelEncoder"
      ]
    },
    {
      "cell_type": "code",
      "source": [
        "data=pd.read_csv('/content/heart.csv')\n",
        "data.head()"
      ],
      "metadata": {
        "id": "zsXXBBZWF3YS"
      },
      "execution_count": null,
      "outputs": []
    },
    {
      "cell_type": "markdown",
      "source": [
        "Checking for missing values"
      ],
      "metadata": {
        "id": "eActYSxQRaI7"
      }
    },
    {
      "cell_type": "code",
      "source": [
        "data.isna().sum()"
      ],
      "metadata": {
        "id": "fzULJmnvROx1"
      },
      "execution_count": null,
      "outputs": []
    },
    {
      "cell_type": "code",
      "source": [
        "data.count()"
      ],
      "metadata": {
        "id": "w2MyXKYdhXSl"
      },
      "execution_count": null,
      "outputs": []
    },
    {
      "cell_type": "markdown",
      "source": [
        "Drop NA values"
      ],
      "metadata": {
        "id": "CEKXEZolRc4n"
      }
    },
    {
      "cell_type": "code",
      "source": [
        "transactions=[]\n",
        "for index,row in data.iterrows():\n",
        "  transactions.append(row.dropna().tolist())"
      ],
      "metadata": {
        "id": "MG6PGBevYFlq"
      },
      "execution_count": 89,
      "outputs": []
    },
    {
      "cell_type": "code",
      "source": [
        "data.count()"
      ],
      "metadata": {
        "id": "Pa3GfPMjhIFJ"
      },
      "execution_count": null,
      "outputs": []
    },
    {
      "cell_type": "markdown",
      "source": [
        "Label Encoding\n",
        "Categorical --> Numerical"
      ],
      "metadata": {
        "id": "BdWjXFyi9Yfl"
      }
    },
    {
      "cell_type": "code",
      "source": [
        "columns = ['Sex', 'ChestPainType', 'RestingECG', 'ExerciseAngina', 'Oldpeak', 'ST_Slope']\n",
        "label_encoder = LabelEncoder()\n",
        "for column in columns:\n",
        "    data[column] = label_encoder.fit_transform(data[column])\n",
        "print(data.head())"
      ],
      "metadata": {
        "id": "ttjjorTN9Ek6"
      },
      "execution_count": null,
      "outputs": []
    },
    {
      "cell_type": "markdown",
      "source": [
        "Binning"
      ],
      "metadata": {
        "id": "Bu9IgJsah2mZ"
      }
    },
    {
      "cell_type": "code",
      "source": [
        "bins = [28,33,38,43,48,53,58,63,68,73,78,83]\n",
        "labels = ['25-29','30-34','35-39','40-44','45-49','50-54','55-59','60-64','65-69','70-74','75-79']\n",
        "data['age_bin'] = pd.cut(data['Age'], bins=bins, labels=labels)\n",
        "print(data.head())"
      ],
      "metadata": {
        "id": "uC7v4lRtjQO7"
      },
      "execution_count": null,
      "outputs": []
    },
    {
      "cell_type": "code",
      "source": [
        "data.head()"
      ],
      "metadata": {
        "id": "VF5Y530DlCLJ"
      },
      "execution_count": null,
      "outputs": []
    },
    {
      "cell_type": "markdown",
      "source": [
        "## **Plotting Graphs**"
      ],
      "metadata": {
        "id": "3ncB1YIHmEBL"
      }
    },
    {
      "cell_type": "markdown",
      "source": [
        "### **Scatterplot**"
      ],
      "metadata": {
        "id": "T9c4KUCoDUnO"
      }
    },
    {
      "cell_type": "code",
      "source": [
        "plt.figure(figsize=(8, 6))\n",
        "sns.scatterplot(data=data, x='Age', y='Cholesterol')\n",
        "plt.title('Scatter Plot: Age vs Cholesterol')\n",
        "plt.xlabel('Age')\n",
        "plt.ylabel('Cholesterol')\n",
        "plt.show()"
      ],
      "metadata": {
        "id": "HHxMDwQ6DWp1"
      },
      "execution_count": null,
      "outputs": []
    },
    {
      "cell_type": "code",
      "source": [
        "plt.figure(figsize=(8, 6))\n",
        "sns.scatterplot(data=data, x='Age', y='Oldpeak')\n",
        "plt.title('Scatter Plot: Age vs Oldpeak')\n",
        "plt.xlabel('Age')\n",
        "plt.ylabel('Cholesterol')\n",
        "plt.show()"
      ],
      "metadata": {
        "id": "O5QpeG6SDcoF"
      },
      "execution_count": null,
      "outputs": []
    },
    {
      "cell_type": "code",
      "source": [
        "plt.figure(figsize=(8, 6))\n",
        "sns.scatterplot(data=data, x='MaxHR', y='Oldpeak')\n",
        "plt.title('Scatter Plot: MaxHR vs Oldpeak')\n",
        "plt.xlabel('MaxHR')\n",
        "plt.ylabel('Oldpeak')\n",
        "plt.show()"
      ],
      "metadata": {
        "id": "6NtxcG_zDmuX"
      },
      "execution_count": null,
      "outputs": []
    },
    {
      "cell_type": "markdown",
      "source": [
        "### **Boxplot**"
      ],
      "metadata": {
        "id": "B4CXmd958czL"
      }
    },
    {
      "cell_type": "code",
      "source": [
        "sns.boxplot(data=data, y='Cholesterol')\n",
        "plt.show()"
      ],
      "metadata": {
        "id": "xovlE2Ak8eMD"
      },
      "execution_count": null,
      "outputs": []
    },
    {
      "cell_type": "code",
      "source": [
        "sns.boxplot(data=data, y='Oldpeak')\n",
        "plt.show()"
      ],
      "metadata": {
        "id": "RLXtQU8O8oJN"
      },
      "execution_count": null,
      "outputs": []
    },
    {
      "cell_type": "code",
      "source": [
        "sns.boxplot(data=data, y='RestingBP')\n",
        "plt.show()"
      ],
      "metadata": {
        "id": "J5QkQ_L281ye"
      },
      "execution_count": null,
      "outputs": []
    },
    {
      "cell_type": "markdown",
      "source": [
        "### **Identifying and dropping outliers**"
      ],
      "metadata": {
        "id": "xnSArc2__Xg0"
      }
    },
    {
      "cell_type": "code",
      "source": [
        "data = data[data['Cholesterol'] >= 85]\n",
        "data = data[data['Cholesterol'] <= 380]\n",
        "data.reset_index(drop=True, inplace=True)\n",
        "print(data.head())"
      ],
      "metadata": {
        "id": "aVZ6BsK-BKZk"
      },
      "execution_count": null,
      "outputs": []
    },
    {
      "cell_type": "code",
      "source": [
        "data.count()"
      ],
      "metadata": {
        "id": "_FNtBv2MALfy"
      },
      "execution_count": null,
      "outputs": []
    },
    {
      "cell_type": "code",
      "source": [
        "sns.boxplot(data=data, y='Cholesterol')\n",
        "plt.show()"
      ],
      "metadata": {
        "id": "zNZt3hthBxYW"
      },
      "execution_count": null,
      "outputs": []
    },
    {
      "cell_type": "markdown",
      "source": [
        "### **Correaltion matrix**"
      ],
      "metadata": {
        "id": "7r2nz2ASD278"
      }
    },
    {
      "cell_type": "code",
      "source": [
        "\n",
        "numeric_columns = ['Age', 'RestingBP', 'Cholesterol', 'MaxHR', 'Oldpeak', 'HeartDisease']\n",
        "correlation_matrix = data[numeric_columns].corr()"
      ],
      "metadata": {
        "id": "EX5pCiR5D5yk"
      },
      "execution_count": null,
      "outputs": []
    },
    {
      "cell_type": "markdown",
      "source": [
        "### **HeatMap**"
      ],
      "metadata": {
        "id": "31SDJ7FM8ZKB"
      }
    },
    {
      "cell_type": "code",
      "source": [
        "plt.figure(figsize=(10, 8))\n",
        "sns.heatmap(correlation_matrix, annot=True, cmap='coolwarm', center=0)\n",
        "plt.title('Correlation Heatmap')\n",
        "plt.show()"
      ],
      "metadata": {
        "id": "-FiMsrsMlGLB"
      },
      "execution_count": null,
      "outputs": []
    },
    {
      "cell_type": "code",
      "source": [
        "data.head()"
      ],
      "metadata": {
        "id": "ygNUNblImPPo"
      },
      "execution_count": null,
      "outputs": []
    },
    {
      "cell_type": "markdown",
      "source": [
        "Covariance"
      ],
      "metadata": {
        "id": "4T7AtzriuVaU"
      }
    },
    {
      "cell_type": "code",
      "source": [
        "numeric_columns = ['Age', 'RestingBP', 'Cholesterol', 'MaxHR', 'Oldpeak','HeartDisease']\n",
        "covariance_matrix = data[numeric_columns].cov()\n",
        "print(\"Covariance Matrix:\")\n",
        "print(covariance_matrix)"
      ],
      "metadata": {
        "id": "cDvpdoUBuUef"
      },
      "execution_count": null,
      "outputs": []
    },
    {
      "cell_type": "markdown",
      "source": [
        "## **Statistical Techniques**"
      ],
      "metadata": {
        "id": "oXCnRsxvGP0N"
      }
    },
    {
      "cell_type": "markdown",
      "source": [
        "### **CHI-SQUARE** **TEST**"
      ],
      "metadata": {
        "id": "icWpufLX1nAt"
      }
    },
    {
      "cell_type": "markdown",
      "source": [
        "Testing the assosciation of ChestPainType and the HeartDisease"
      ],
      "metadata": {
        "id": "gXxuVDdc3UUD"
      }
    },
    {
      "cell_type": "code",
      "source": [
        "contingency_table = pd.crosstab(data['ChestPainType'], data['HeartDisease'])\n",
        "chi2_stat, p_val, dof, expected = chi2_contingency(contingency_table)\n",
        "print(\"Chi-Square Statistic:\", chi2_stat)\n",
        "print(\"P-Value:\", p_val)\n",
        "print(\"Degrees of Freedom:\", dof)\n",
        "print(\"Expected Frequencies:\", expected)"
      ],
      "metadata": {
        "id": "_9i0Wh0tq0DT"
      },
      "execution_count": null,
      "outputs": []
    },
    {
      "cell_type": "code",
      "source": [
        "contingency_table = pd.crosstab(data['RestingECG'], data['HeartDisease'])\n",
        "chi2_stat, p_val, dof, expected = chi2_contingency(contingency_table)\n",
        "print(\"Chi-Square Statistic:\", chi2_stat)\n",
        "print(\"P-Value:\", p_val)\n",
        "print(\"Degrees of Freedom:\", dof)\n",
        "print(\"Expected Frequencies:\", expected)"
      ],
      "metadata": {
        "id": "QrmzTX_36ZA8"
      },
      "execution_count": null,
      "outputs": []
    },
    {
      "cell_type": "markdown",
      "source": [
        "Testing the assosciation btwn Multiple columns with HeartDisease"
      ],
      "metadata": {
        "id": "41JF4Uz93dlm"
      }
    },
    {
      "cell_type": "code",
      "source": [
        "contingency_table = pd.crosstab([data['ChestPainType'], data['RestingECG'], data['ExerciseAngina']], data['HeartDisease'])\n",
        "chi2_stat, p_val, dof, expected = chi2_contingency(contingency_table)\n",
        "print(\"Chi-Square Statistic:\", chi2_stat)\n",
        "print(\"P-Value:\", p_val)\n",
        "print(\"Degrees of Freedom:\", dof)\n",
        "print(\"Expected Frequencies:\")\n",
        "print(pd.DataFrame(expected))"
      ],
      "metadata": {
        "id": "hnbpUbC83uGg"
      },
      "execution_count": null,
      "outputs": []
    },
    {
      "cell_type": "markdown",
      "source": [
        "## **T-Test**"
      ],
      "metadata": {
        "id": "HNfOMJtiE-SK"
      }
    },
    {
      "cell_type": "markdown",
      "source": [
        "From the Heat-map we have identified Oldpeak and Heartdisease has a strong correlation. Age and HeartDisease also have correlation."
      ],
      "metadata": {
        "id": "FIYo_aJIJhYN"
      }
    },
    {
      "cell_type": "code",
      "source": [
        "from scipy.stats import ttest_ind"
      ],
      "metadata": {
        "id": "J6OAIdiXJtRU"
      },
      "execution_count": 120,
      "outputs": []
    },
    {
      "cell_type": "code",
      "source": [
        "group_0_chol = data[data['HeartDisease'] == 0]['Age']\n",
        "group_1_chol = data[data['HeartDisease'] == 1]['Age']\n",
        "t_stat, p_value = ttest_ind(group_0_chol, group_1_chol)\n",
        "print(\"T-Statistic:\", t_stat)\n",
        "print(\"P-Value:\", p_value)"
      ],
      "metadata": {
        "id": "4Vt4rEOWJRMY"
      },
      "execution_count": null,
      "outputs": []
    },
    {
      "cell_type": "markdown",
      "source": [
        "The Results of the t-test provide strong evidence that there is a significant difference in the mean age between individuals with heart disease and those without heart disease."
      ],
      "metadata": {
        "id": "19gXHARFKIUx"
      }
    },
    {
      "cell_type": "code",
      "source": [
        "group_0_chol = data[data['HeartDisease'] == 0]['Oldpeak']\n",
        "group_1_chol = data[data['HeartDisease'] == 1]['Oldpeak']\n",
        "t_stat, p_value = ttest_ind(group_0_chol, group_1_chol)\n",
        "print(\"T-Statistic:\", t_stat)\n",
        "print(\"P-Value:\", p_value)"
      ],
      "metadata": {
        "id": "7rQGwCCEKNpK"
      },
      "execution_count": null,
      "outputs": []
    },
    {
      "cell_type": "markdown",
      "source": [
        "The negative t-test value indicates that the group without heart disease tends to have lower average 'Oldpeak' values compared to the group with heart disease. The small p-value suggests that this difference is unlikely to be due to random chance alone."
      ],
      "metadata": {
        "id": "ubrlTp4WKmxs"
      }
    }
  ]
}
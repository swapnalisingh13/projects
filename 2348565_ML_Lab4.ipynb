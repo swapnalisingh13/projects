{
  "nbformat": 4,
  "nbformat_minor": 0,
  "metadata": {
    "colab": {
      "provenance": []
    },
    "kernelspec": {
      "name": "python3",
      "display_name": "Python 3"
    },
    "language_info": {
      "name": "python"
    }
  },
  "cells": [
    {
      "cell_type": "code",
      "execution_count": 95,
      "metadata": {
        "id": "wId4KqO605eP"
      },
      "outputs": [],
      "source": [
        "import pandas as pd\n",
        "import numpy as np\n",
        "import matplotlib.pyplot as plt\n",
        "import seaborn as sns\n",
        "from mlxtend.frequent_patterns import apriori\n",
        "from mlxtend.frequent_patterns import association_rules\n",
        "import time\n",
        "import threading\n",
        "import warnings\n",
        "warnings.filterwarnings(\"ignore\")\n",
        "from mlxtend.frequent_patterns import fpgrowth"
      ]
    },
    {
      "cell_type": "markdown",
      "source": [
        "Data Loading"
      ],
      "metadata": {
        "id": "lJoPHXIxcrt6"
      }
    },
    {
      "cell_type": "code",
      "source": [
        "d=data=pd.read_csv(\"/content/Groceries_dataset.csv\")\n",
        "data.head()"
      ],
      "metadata": {
        "id": "nRwyAAd56llC"
      },
      "execution_count": null,
      "outputs": []
    },
    {
      "cell_type": "markdown",
      "source": [
        "Data Preprocessing"
      ],
      "metadata": {
        "id": "XVXytV8fcvPv"
      }
    },
    {
      "cell_type": "code",
      "source": [
        "data.shape"
      ],
      "metadata": {
        "id": "pgYzjX4q1Ryy"
      },
      "execution_count": null,
      "outputs": []
    },
    {
      "cell_type": "code",
      "source": [
        "data.describe()"
      ],
      "metadata": {
        "id": "zmjGouLadLgd"
      },
      "execution_count": null,
      "outputs": []
    },
    {
      "cell_type": "markdown",
      "source": [
        "Checking null values"
      ],
      "metadata": {
        "id": "BKhToyxR5v7T"
      }
    },
    {
      "cell_type": "code",
      "source": [
        "data.isna().sum()"
      ],
      "metadata": {
        "id": "PcEN6sLx5vX7"
      },
      "execution_count": null,
      "outputs": []
    },
    {
      "cell_type": "markdown",
      "source": [
        "Adding column quantity"
      ],
      "metadata": {
        "id": "2Q_tsN8N8dgP"
      }
    },
    {
      "cell_type": "code",
      "source": [
        "d['Quantity'] = 1"
      ],
      "metadata": {
        "id": "-m5GFNo19O9I"
      },
      "execution_count": 99,
      "outputs": []
    },
    {
      "cell_type": "markdown",
      "source": [
        "Converting the dataset"
      ],
      "metadata": {
        "id": "IEh-vp_bdeOP"
      }
    },
    {
      "cell_type": "code",
      "source": [
        "transactions1 =  d.groupby(['Member_number','itemDescription'])['Quantity'].sum().unstack().reset_index().set_index('Member_number')\n",
        "transactions1"
      ],
      "metadata": {
        "id": "VGuVej2186hs"
      },
      "execution_count": null,
      "outputs": []
    },
    {
      "cell_type": "markdown",
      "source": [
        "Replace 'NaN' values"
      ],
      "metadata": {
        "id": "Jiahcw40dj_Z"
      }
    },
    {
      "cell_type": "code",
      "source": [
        "transactions1 = transactions1.fillna(0)"
      ],
      "metadata": {
        "id": "53UmAb44ahgZ"
      },
      "execution_count": 102,
      "outputs": []
    },
    {
      "cell_type": "markdown",
      "source": [
        "Converting data to binary matrix"
      ],
      "metadata": {
        "id": "8z2dci2lCM6H"
      }
    },
    {
      "cell_type": "code",
      "source": [
        "encoded=pd.get_dummies(pd.DataFrame(transactions1).stack()).sum(level=0)\n",
        "transactiondf=(encoded>0).astype(int)"
      ],
      "metadata": {
        "id": "MaRH-m6yCNGs"
      },
      "execution_count": 111,
      "outputs": []
    },
    {
      "cell_type": "markdown",
      "source": [
        "Multithreading"
      ],
      "metadata": {
        "id": "fMtirKY0CQj9"
      }
    },
    {
      "cell_type": "code",
      "source": [
        "apicompleted=threading.Event()\n",
        "fpcompleted=threading.Event()"
      ],
      "metadata": {
        "id": "DIG05EzoCQr4"
      },
      "execution_count": 112,
      "outputs": []
    },
    {
      "cell_type": "code",
      "source": [
        "exetime=[0,0]"
      ],
      "metadata": {
        "id": "RyQUHkYqCfu4"
      },
      "execution_count": 113,
      "outputs": []
    },
    {
      "cell_type": "markdown",
      "source": [
        "Function to calculate Apriori and FP-Growth"
      ],
      "metadata": {
        "id": "7S8n_yGSeP2Q"
      }
    },
    {
      "cell_type": "code",
      "source": [
        "min_supp = float(input(\"Enter the minimum support threshold: \"))\n",
        "min_conf = float(input(\"Enter the minimum confidence threshold: \"))"
      ],
      "metadata": {
        "colab": {
          "base_uri": "https://localhost:8080/"
        },
        "id": "OHXIrattf_3I",
        "outputId": "ee8db1df-4c4a-4d1b-b91e-17b1aff09027"
      },
      "execution_count": 122,
      "outputs": [
        {
          "name": "stdout",
          "output_type": "stream",
          "text": [
            "Enter the minimum support threshold: 0.2\n",
            "Enter the minimum confidence threshold: 0.3\n"
          ]
        }
      ]
    },
    {
      "cell_type": "code",
      "source": [
        "def runapi():\n",
        "  stime=time.time()\n",
        "  apiresults=apriori(transactiondf,min_support=min_supp,use_colnames=True)\n",
        "  exetime[0]=time.time()-stime\n",
        "  apicompleted.set()"
      ],
      "metadata": {
        "id": "_3B3qCHAClqu"
      },
      "execution_count": 123,
      "outputs": []
    },
    {
      "cell_type": "code",
      "source": [
        "def runfp():\n",
        "  stime=time.time()\n",
        "  fpresults=fpgrowth(transactiondf,min_support=min_conf,use_colnames=True)\n",
        "  exetime[1]=time.time()-stime\n",
        "  fpcompleted.set()"
      ],
      "metadata": {
        "id": "_6MYco-jCr8M"
      },
      "execution_count": 124,
      "outputs": []
    },
    {
      "cell_type": "code",
      "source": [
        "apthread=threading.Thread(target=runapi)\n",
        "fpthread=threading.Thread(target=runfp)"
      ],
      "metadata": {
        "id": "a8kunlTVEWVx"
      },
      "execution_count": 125,
      "outputs": []
    },
    {
      "cell_type": "code",
      "source": [
        "apthread.start()\n",
        "fpthread.start()\n",
        "apicompleted.wait()\n",
        "fpcompleted.wait()\n",
        "apthread.join()\n",
        "fpthread.join()"
      ],
      "metadata": {
        "id": "UueNl_JdCt4p"
      },
      "execution_count": 126,
      "outputs": []
    },
    {
      "cell_type": "markdown",
      "source": [
        "Visualizing the algorithms"
      ],
      "metadata": {
        "id": "I5E_ZPgBeUom"
      }
    },
    {
      "cell_type": "code",
      "source": [
        "algorithms=['Apriori-Algorithm','FP-Growth']\n",
        "plt.bar(algorithms,exetime)\n",
        "plt.xlabel('Algorithms')\n",
        "plt.ylabel('Execution Time')\n",
        "plt.title('Apriori vs FP-Growth')\n",
        "plt.show()\n",
        "print(exetime)\n",
        "a=0\n",
        "if exetime[0]<exetime[1]:\n",
        "  print(\"Apriori is Faster\")\n",
        "  a=1\n",
        "\n",
        "elif exetime[1]<exetime[0]:\n",
        "  print(\"FP-Growth is Faster\")\n",
        "  a=2\n",
        "\n",
        "else:\n",
        "  print(\"Both are equal\")"
      ],
      "metadata": {
        "colab": {
          "base_uri": "https://localhost:8080/",
          "height": 507
        },
        "id": "m99umqp0EZlT",
        "outputId": "527fd635-66d9-48ff-99c5-85bd7f8a8f92"
      },
      "execution_count": 127,
      "outputs": [
        {
          "output_type": "display_data",
          "data": {
            "text/plain": [
              "<Figure size 640x480 with 1 Axes>"
            ],
            "image/png": "[encoded data removed]"
          },
          "metadata": {}
        },
        {
          "output_type": "stream",
          "name": "stdout",
          "text": [
            "[0.02343463897705078, 0.05385470390319824]\n",
            "Apriori is Faster\n"
          ]
        }
      ]
    },
    {
      "cell_type": "markdown",
      "source": [
        "Recommendation"
      ],
      "metadata": {
        "id": "-wPSC5c_fgPi"
      }
    },
    {
      "cell_type": "code",
      "source": [
        "if a==1:\n",
        "  print(\"Apriori is better for Market basket analysis.\")\n",
        "elif a==2:\n",
        "  print(\"FP-Growth is better for Market basket analysis.\")\n",
        "else:\n",
        "  print(\"Both have sam result.\")"
      ],
      "metadata": {
        "colab": {
          "base_uri": "https://localhost:8080/"
        },
        "id": "AWAa1GEdfCq7",
        "outputId": "32606aa8-e595-4808-f4f0-55892dc88656"
      },
      "execution_count": 120,
      "outputs": [
        {
          "output_type": "stream",
          "name": "stdout",
          "text": [
            "Apriori is better for Market basket analysis.\n"
          ]
        }
      ]
    },
    {
      "cell_type": "markdown",
      "source": [
        "Assosciation rules based on apriori and fp-growth"
      ],
      "metadata": {
        "id": "dsls6I0Lfkf6"
      }
    },
    {
      "cell_type": "code",
      "source": [
        "apiresults=apriori(transactiondf,min_support=min_supp,use_colnames=True)\n",
        "fpresults=fpgrowth(transactiondf,min_support=min_supp,use_colnames=True)\n",
        "\n",
        "apriori_association_rules = association_rules(apiresults, metric=\"confidence\", min_threshold=min_conf)\n",
        "print(\"Association Rules from Apriori Algorithm:\")\n",
        "print(apriori_association_rules)\n",
        "\n",
        "fp_growth_association_rules = association_rules(fpresults, metric=\"confidence\", min_threshold=min_conf)\n",
        "print(\"\\nAssociation Rules from FP-Growth Algorithm:\")\n",
        "print(fp_growth_association_rules)"
      ],
      "metadata": {
        "id": "Jm56G7traNkh"
      },
      "execution_count": null,
      "outputs": []
    }
  ]
}
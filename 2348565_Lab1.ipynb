{
  "nbformat": 4,
  "nbformat_minor": 0,
  "metadata": {
    "colab": {
      "provenance": []
    },
    "kernelspec": {
      "name": "python3",
      "display_name": "Python 3"
    },
    "language_info": {
      "name": "python"
    }
  },
  "cells": [
    {
      "cell_type": "code",
      "source": [
        "!git clone https://github.com/swapnalisingh13/projects.git"
      ],
      "metadata": {
        "id": "TrMtvxG475Ot"
      },
      "execution_count": null,
      "outputs": []
    },
    {
      "cell_type": "markdown",
      "source": [],
      "metadata": {
        "id": "F25rAnMWaBez"
      }
    },
    {
      "cell_type": "code",
      "execution_count": null,
      "metadata": {
        "id": "6iZVgr0S0cEz"
      },
      "outputs": [],
      "source": [
        "import pandas as pd\n",
        "import numpy as np\n",
        "import matplotlib.pyplot as plt\n",
        "import seaborn as sns\n",
        "df=pd.read_csv('/content/Churn_Modelling.csv')\n",
        "df.head()"
      ]
    },
    {
      "cell_type": "markdown",
      "source": [
        "checking for missing values in the dataset"
      ],
      "metadata": {
        "id": "1cd9AXb21XVV"
      }
    },
    {
      "cell_type": "code",
      "source": [
        "df.isnull().sum()"
      ],
      "metadata": {
        "id": "BJ6pAfQN1WyJ"
      },
      "execution_count": null,
      "outputs": []
    },
    {
      "cell_type": "markdown",
      "source": [
        "Identifying outliers from the datasets"
      ],
      "metadata": {
        "id": "TfuobKc2ACcj"
      }
    },
    {
      "cell_type": "code",
      "source": [
        "#by plotting the graphs we can identify the outliers\n",
        "\n",
        "\n",
        "df1 = df[['Age','Balance','Tenure','EstimatedSalary','Exited','NumOfProducts','Gender']]\n",
        "sns.pairplot(df1, kind=\"bar\")\n",
        "plt.show()\n",
        "#for checking as a whole"
      ],
      "metadata": {
        "id": "7URuxNU0APZm"
      },
      "execution_count": null,
      "outputs": []
    },
    {
      "cell_type": "markdown",
      "source": [
        "Checking from different methods"
      ],
      "metadata": {
        "id": "8C5wxQPLEzDw"
      }
    },
    {
      "cell_type": "code",
      "source": [
        "#boxplot\n",
        "#df1 = df[['Age','Balance','Tenure','EstimatedSalary','Exited','NumOfProducts','Gender','CreditScore']]\n",
        "plt.boxplot(df['CreditScore'])\n"
      ],
      "metadata": {
        "id": "L9XWK5SEE5x-"
      },
      "execution_count": null,
      "outputs": []
    },
    {
      "cell_type": "code",
      "source": [
        "plt.boxplot(df['EstimatedSalary'])"
      ],
      "metadata": {
        "id": "2BCqmbzoFx7Z"
      },
      "execution_count": null,
      "outputs": []
    },
    {
      "cell_type": "code",
      "source": [
        "plt.boxplot(df['Tenure'])"
      ],
      "metadata": {
        "id": "j2MppQLRGjsa"
      },
      "execution_count": null,
      "outputs": []
    },
    {
      "cell_type": "code",
      "source": [
        "plt.boxplot(df['EstimatedSalary'])"
      ],
      "metadata": {
        "id": "Q3NB7Y7SGrwr"
      },
      "execution_count": null,
      "outputs": []
    },
    {
      "cell_type": "code",
      "source": [
        "plt.boxplot(df['NumOfProducts'])"
      ],
      "metadata": {
        "id": "xPx8NJYBIaEf"
      },
      "execution_count": null,
      "outputs": []
    },
    {
      "cell_type": "markdown",
      "source": [
        "Checking for outliers"
      ],
      "metadata": {
        "id": "bDEbBRPshPp9"
      }
    },
    {
      "cell_type": "markdown",
      "source": [
        "Z score outlier detection"
      ],
      "metadata": {
        "id": "oiaM4Ro0y1Pu"
      }
    },
    {
      "cell_type": "code",
      "source": [
        "# Extract the column of interest for outlier detection\n",
        "column_name = \"CreditScore\"\n",
        "\n",
        "data = df[column_name]\n",
        "# Calculate the Z-scores\n",
        "z_scores = (data - data.mean()) / data.std()\n",
        "# Define a threshold for identifying outliers (e.g., Z-score threshold of 2)\n",
        "threshold = 2\n",
        "# Identify the outliers\n",
        "outliers = df[abs(z_scores) > threshold]\n",
        "# Print the outliers\n",
        "print(\"Outliers:\")\n",
        "print(outliers)"
      ],
      "metadata": {
        "id": "MgNnbMGchUiD"
      },
      "execution_count": null,
      "outputs": []
    },
    {
      "cell_type": "markdown",
      "source": [
        "Applying binning techniques"
      ],
      "metadata": {
        "id": "mymfgSQjzYis"
      }
    },
    {
      "cell_type": "code",
      "source": [
        "from sklearn.preprocessing import KBinsDiscretizer"
      ],
      "metadata": {
        "id": "N4R1ha2u1svM"
      },
      "execution_count": null,
      "outputs": []
    },
    {
      "cell_type": "code",
      "source": [
        "#df.sum()\n",
        "age_column = df[['Age']]\n",
        "\n",
        "# Defining the number of bins\n",
        "num_bins = 5\n",
        "\n",
        "# Initialize KBinsDiscretizer\n",
        "binning = KBinsDiscretizer(n_bins=num_bins, encode='ordinal', strategy='uniform')\n",
        "\n",
        "# Fit and transform the 'Age' column\n",
        "binned_age = binning.fit_transform(age_column)\n",
        "\n",
        "# Add the binned 'Age' column to the DataFrame\n",
        "df['Age_binned'] = binned_age\n",
        "\n",
        "# Print the first few rows of the updated dataset\n",
        "print(data.head())"
      ],
      "metadata": {
        "id": "e5w3J02DzXqQ"
      },
      "execution_count": null,
      "outputs": []
    },
    {
      "cell_type": "markdown",
      "source": [
        "2nd method without library"
      ],
      "metadata": {
        "id": "VmmeVX2Xprwi"
      }
    },
    {
      "cell_type": "code",
      "source": [
        "bins = [0, 20, 30, 40, 50, 60, 70, 100]\n",
        "labels = ['0-20', '21-30', '31-40', '41-50', '51-60', '61-70', '71+']\n",
        "\n",
        "df['AgeGroup'] = pd.cut(df['Age'], bins=bins, labels=labels, right=False)\n",
        "\n",
        "# Display the first few rows to verify the result\n",
        "print(df[['Age', 'AgeGroup']].head())"
      ],
      "metadata": {
        "colab": {
          "base_uri": "https://localhost:8080/"
        },
        "id": "VRhTk4SapL1P",
        "outputId": "4b7b6832-d780-497c-e0e6-aa06760e6027"
      },
      "execution_count": null,
      "outputs": [
        {
          "output_type": "stream",
          "name": "stdout",
          "text": [
            "   Age AgeGroup\n",
            "0   42    41-50\n",
            "1   41    41-50\n",
            "2   42    41-50\n",
            "3   39    31-40\n",
            "4   43    41-50\n"
          ]
        }
      ]
    },
    {
      "cell_type": "code",
      "source": [
        "df.head()"
      ],
      "metadata": {
        "id": "OX37SbsV12oh"
      },
      "execution_count": null,
      "outputs": []
    },
    {
      "cell_type": "markdown",
      "source": [
        "Droping columns with outliers"
      ],
      "metadata": {
        "id": "l3Y22--y3AV9"
      }
    },
    {
      "cell_type": "code",
      "source": [
        "credit_score_threshold = 370\n",
        "\n",
        "# Filtering out rows with 'CreditScore' below the threshold\n",
        "df = df[df['CreditScore'] >= credit_score_threshold]\n",
        "\n",
        "# Printing the updated dataset\n",
        "print(df.head())"
      ],
      "metadata": {
        "id": "QqyBJ-Ic3FJq"
      },
      "execution_count": null,
      "outputs": []
    },
    {
      "cell_type": "markdown",
      "source": [
        "EDA on datasets"
      ],
      "metadata": {
        "id": "ctmbTrNE3kNY"
      }
    },
    {
      "cell_type": "code",
      "source": [
        "df.describe()"
      ],
      "metadata": {
        "id": "wXt5i5i23ntw"
      },
      "execution_count": null,
      "outputs": []
    },
    {
      "cell_type": "code",
      "source": [
        "df.info()"
      ],
      "metadata": {
        "id": "tsWz-E1h3zQi"
      },
      "execution_count": null,
      "outputs": []
    },
    {
      "cell_type": "code",
      "source": [
        "df.shape"
      ],
      "metadata": {
        "id": "QYUxfFtX05dR"
      },
      "execution_count": null,
      "outputs": []
    },
    {
      "cell_type": "markdown",
      "source": [
        "Finding the correlation"
      ],
      "metadata": {
        "id": "Y6STLTlH41xo"
      }
    },
    {
      "cell_type": "code",
      "source": [
        "df.corr()"
      ],
      "metadata": {
        "id": "kyFswXrA40mV"
      },
      "execution_count": null,
      "outputs": []
    },
    {
      "cell_type": "code",
      "source": [
        "correlation_matrix = df.corr()\n",
        "sns.heatmap(correlation_matrix, annot=False, cmap='coolwarm')\n",
        "plt.title('Correlation Heatmap')\n",
        "plt.show()\n",
        "#Dark blue cells (close to -1) represent strong negative correlations.\n",
        "#Dark red cells (close to 1) represent strong positive correlations.\n",
        "#Lighter shades (closer to 0) indicate weaker correlations."
      ],
      "metadata": {
        "id": "WoJGv_iE4Iu9"
      },
      "execution_count": null,
      "outputs": []
    },
    {
      "cell_type": "markdown",
      "source": [
        "**Any relevant datasets that we can integrate to enrich our feature extraction**.\n",
        "\n",
        "For this we need to find other datasets to integrate in our datasets"
      ],
      "metadata": {
        "id": "1Q0dg0Us6KaS"
      }
    },
    {
      "cell_type": "markdown",
      "source": [
        "Finding unique values in datasets"
      ],
      "metadata": {
        "id": "Ste3P7G935cp"
      }
    },
    {
      "cell_type": "code",
      "source": [
        "df['Geography'].unique()"
      ],
      "metadata": {
        "id": "Q_OzlgTC4ILx"
      },
      "execution_count": null,
      "outputs": []
    },
    {
      "cell_type": "code",
      "source": [
        "df['Gender'].unique()"
      ],
      "metadata": {
        "id": "rHl5to5B4STb"
      },
      "execution_count": null,
      "outputs": []
    },
    {
      "cell_type": "markdown",
      "source": [
        "Patterns btwn tenure of customers and thir churn status"
      ],
      "metadata": {
        "id": "Pqf3_qU05eq4"
      }
    },
    {
      "cell_type": "code",
      "source": [
        "X=pd.crosstab(df['Tenure'],df['Exited'])\n",
        "X"
      ],
      "metadata": {
        "id": "gViBpWvj5dzn"
      },
      "execution_count": null,
      "outputs": []
    },
    {
      "cell_type": "markdown",
      "source": [
        "Relationship btwn tenure of customers to churn status (Bar Plot)"
      ],
      "metadata": {
        "id": "_yA_Qhbh6KnU"
      }
    },
    {
      "cell_type": "code",
      "source": [
        "# bar plot to show churn status(Exited) based on tenure\n",
        "plt.figure(figsize=(10, 6))\n",
        "sns.barplot(x='Tenure', y='Exited', data=df, ci=None)\n",
        "plt.title('Churn Status by Tenure')\n",
        "plt.xlabel('Tenure')\n",
        "plt.ylabel('Churn Rate')\n",
        "plt.show()"
      ],
      "metadata": {
        "id": "QMZdmIRG7He8"
      },
      "execution_count": null,
      "outputs": []
    },
    {
      "cell_type": "markdown",
      "source": [
        "Data Scaling"
      ],
      "metadata": {
        "id": "sUuPFkSt8M5k"
      }
    },
    {
      "cell_type": "code",
      "source": [
        "from sklearn.preprocessing import StandardScaler"
      ],
      "metadata": {
        "id": "CNLKifiu83UY"
      },
      "execution_count": null,
      "outputs": []
    },
    {
      "cell_type": "code",
      "source": [
        "features_to_scale = ['CreditScore', 'Age', 'Tenure', 'Balance', 'NumOfProducts', 'EstimatedSalary']\n",
        "\n",
        "# Initialize StandardScaler\n",
        "scaler = StandardScaler()\n",
        "\n",
        "# Fit and transform the selected features\n",
        "df[features_to_scale] = scaler.fit_transform(df[features_to_scale])"
      ],
      "metadata": {
        "id": "Ljv6pY7I7mZ-"
      },
      "execution_count": null,
      "outputs": []
    },
    {
      "cell_type": "code",
      "source": [
        "df.head()"
      ],
      "metadata": {
        "id": "dDZtzbw98-Fj"
      },
      "execution_count": null,
      "outputs": []
    },
    {
      "cell_type": "markdown",
      "source": [
        "Dimensionality Reduction"
      ],
      "metadata": {
        "id": "hd0etZZ99L2w"
      }
    },
    {
      "cell_type": "code",
      "source": [
        "from sklearn.decomposition import PCA\n",
        "\n",
        "features_for_pca = ['CreditScore', 'Age', 'Tenure', 'Balance', 'NumOfProducts', 'EstimatedSalary']\n",
        "\n",
        "pca = PCA(n_components=3)  # Number of components to keep\n",
        "\n",
        "# Fit and transforming the selected features\n",
        "pca_result = pca.fit_transform(df[features_for_pca])\n",
        "\n",
        "# Add PCA components to the DataFrame\n",
        "df['PCA_Component1'] = pca_result[:, 0]\n",
        "df['PCA_Component2'] = pca_result[:, 1]\n",
        "df['PCA_Component3'] = pca_result[:, 2]\n",
        "df.head()"
      ],
      "metadata": {
        "id": "1MWiZaam9LLq"
      },
      "execution_count": null,
      "outputs": []
    },
    {
      "cell_type": "markdown",
      "source": [
        "Identify the most relevant feature of the dataset"
      ],
      "metadata": {
        "id": "G5jaNwOc9yex"
      }
    },
    {
      "cell_type": "code",
      "source": [
        "from sklearn.ensemble import RandomForestClassifier"
      ],
      "metadata": {
        "id": "meoepwxeoTu0"
      },
      "execution_count": null,
      "outputs": []
    },
    {
      "cell_type": "code",
      "source": [
        "# Selecting features and target\n",
        "selected_features = ['CreditScore', 'Age', 'Tenure', 'Balance', 'NumOfProducts', 'HasCrCard', 'IsActiveMember', 'EstimatedSalary']\n",
        "X = df[selected_features]\n",
        "y = df['Exited']\n",
        "\n",
        "# Initializing Random Forest classifier\n",
        "rf_classifier = RandomForestClassifier(random_state=42)\n",
        "\n",
        "# Fitting the model on the entire dataset\n",
        "rf_classifier.fit(X, y)\n",
        "\n",
        "# Get feature importance\n",
        "feature_importance = rf_classifier.feature_importances_\n",
        "\n",
        "# dictionary of feature importance scores\n",
        "feature_importance_dict = dict(zip(selected_features, feature_importance))\n",
        "\n",
        "#  importance features are sorted here.\n",
        "sorted_features = sorted(feature_importance_dict.items(), key=lambda x: x[1], reverse=True)\n",
        "for feature, importance in sorted_features:\n",
        "    print(f\"{feature}: {importance}\")"
      ],
      "metadata": {
        "id": "8VWLGKzE9EUX"
      },
      "execution_count": null,
      "outputs": []
    },
    {
      "cell_type": "markdown",
      "source": [
        "Heat-Map for correlation based on age groups"
      ],
      "metadata": {
        "id": "bJ-pZxSAqDbF"
      }
    },
    {
      "cell_type": "code",
      "source": [
        "#pivot table for creating the heat map\n",
        "pivot_table = df.pivot_table(index='AgeGroup', columns='Exited', values='CustomerId', aggfunc='count')\n",
        "\n",
        "plt.figure(figsize=(10, 6))\n",
        "sns.heatmap(pivot_table, annot=True, fmt='d', cmap='YlGnBu')\n",
        "plt.title('Churn vs Age Group')\n",
        "plt.xlabel('Exited')\n",
        "plt.ylabel('Age Group')\n",
        "plt.show()"
      ],
      "metadata": {
        "id": "rwkh60FSqIQ5"
      },
      "execution_count": null,
      "outputs": []
    },
    {
      "cell_type": "markdown",
      "source": [
        "Imbalnced Data"
      ],
      "metadata": {
        "id": "ItF2ag8YqzC0"
      }
    },
    {
      "cell_type": "code",
      "source": [
        "df['Exited'].value_counts()"
      ],
      "metadata": {
        "colab": {
          "base_uri": "https://localhost:8080/"
        },
        "id": "5N33aKuyq1ax",
        "outputId": "9fb89adc-7ab8-44b7-f884-b7e025c75351"
      },
      "execution_count": null,
      "outputs": [
        {
          "output_type": "execute_result",
          "data": {
            "text/plain": [
              "0    7963\n",
              "1    2037\n",
              "Name: Exited, dtype: int64"
            ]
          },
          "metadata": {},
          "execution_count": 21
        }
      ]
    },
    {
      "cell_type": "markdown",
      "source": [
        "plotting the graph"
      ],
      "metadata": {
        "id": "Tdk-rKPsrAR2"
      }
    },
    {
      "cell_type": "code",
      "source": [
        "plt.figure(figsize=(6, 4))\n",
        "sns.countplot(data=df, x='Exited')\n",
        "plt.title('Class Distribution')\n",
        "plt.xlabel('Exited')\n",
        "plt.ylabel('Count')\n",
        "plt.show()"
      ],
      "metadata": {
        "id": "Q3ZOh1hyrCHf"
      },
      "execution_count": null,
      "outputs": []
    },
    {
      "cell_type": "markdown",
      "source": [
        "Resampling technique"
      ],
      "metadata": {
        "id": "xsmzt914rHBv"
      }
    },
    {
      "cell_type": "code",
      "source": [
        "from imblearn.over_sampling import RandomOverSampler\n",
        "\n",
        "X = df.drop('Exited', axis=1)\n",
        "y = df['Exited']\n",
        "\n",
        "oversampler = RandomOverSampler(random_state=42)\n",
        "X_resampled, y_resampled = oversampler.fit_resample(X, y)"
      ],
      "metadata": {
        "id": "WsM-PUoArHL0"
      },
      "execution_count": null,
      "outputs": []
    },
    {
      "cell_type": "markdown",
      "source": [
        "To check the resampled data"
      ],
      "metadata": {
        "id": "y932advq60pV"
      }
    },
    {
      "cell_type": "code",
      "source": [
        "class_distribution = y_resampled.value_counts()\n",
        "print(class_distribution)"
      ],
      "metadata": {
        "id": "pC1ahk4G54Me"
      },
      "execution_count": null,
      "outputs": []
    },
    {
      "cell_type": "code",
      "source": [
        "!git add .\n",
        "!git commit -m \"Initial commit\""
      ],
      "metadata": {
        "colab": {
          "base_uri": "https://localhost:8080/"
        },
        "id": "UKHJerJm_FN7",
        "outputId": "e7a1a931-3d60-461f-e666-891c584bfc7e"
      },
      "execution_count": null,
      "outputs": [
        {
          "output_type": "stream",
          "name": "stdout",
          "text": [
            "fatal: not a git repository (or any of the parent directories): .git\n",
            "fatal: not a git repository (or any of the parent directories): .git\n"
          ]
        }
      ]
    }
  ]
}
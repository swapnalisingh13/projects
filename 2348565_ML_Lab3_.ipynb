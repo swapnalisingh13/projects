{
  "nbformat": 4,
  "nbformat_minor": 0,
  "metadata": {
    "colab": {
      "provenance": []
    },
    "kernelspec": {
      "name": "python3",
      "display_name": "Python 3"
    },
    "language_info": {
      "name": "python"
    }
  },
  "cells": [
    {
      "cell_type": "code",
      "execution_count": 3,
      "metadata": {
        "id": "P4SHHro0Od1P"
      },
      "outputs": [],
      "source": [
        "import pandas as pd\n",
        "import matplotlib.pyplot as plt\n",
        "import seaborn as sns\n",
        "import warnings\n",
        "warnings.filterwarnings(\"ignore\", category=DeprecationWarning)\n",
        "from mlxtend.frequent_patterns import apriori\n",
        "from mlxtend.frequent_patterns import association_rules\n",
        "from mlxtend.preprocessing import TransactionEncoder"
      ]
    },
    {
      "cell_type": "code",
      "source": [
        "d= data = pd.read_csv('/content/Market_Basket_Optimisation.csv',header=None)\n",
        "data.head()"
      ],
      "metadata": {
        "id": "bMzRmmsWygg8"
      },
      "execution_count": null,
      "outputs": []
    },
    {
      "cell_type": "markdown",
      "source": [
        "Checking Null values"
      ],
      "metadata": {
        "id": "KBHg3Ssxb3YY"
      }
    },
    {
      "cell_type": "code",
      "source": [
        "data.isnull().sum()"
      ],
      "metadata": {
        "id": "QTCTSegH3qMi"
      },
      "execution_count": null,
      "outputs": []
    },
    {
      "cell_type": "markdown",
      "source": [
        "Filling the null values"
      ],
      "metadata": {
        "id": "y_nLqsa4b7DJ"
      }
    },
    {
      "cell_type": "code",
      "source": [
        "data1 = data.fillna(0)\n",
        "print(data1.isnull().sum())"
      ],
      "metadata": {
        "id": "ajwcKp7Qb7Rt"
      },
      "execution_count": null,
      "outputs": []
    },
    {
      "cell_type": "markdown",
      "source": [
        "Basically it means there are total 19 columns in my dataset. column 0 has no null values, but column 1 has 1754 null values like that."
      ],
      "metadata": {
        "id": "3zHHe8U743Ey"
      }
    },
    {
      "cell_type": "markdown",
      "source": [
        "**Binary Matrix format**"
      ],
      "metadata": {
        "id": "_WSeSFt35sXV"
      }
    },
    {
      "cell_type": "code",
      "source": [
        "binary_matrix = data.notna().astype(int)\n",
        "binary_matrix.head()"
      ],
      "metadata": {
        "id": "62ViyY-Bde84"
      },
      "execution_count": null,
      "outputs": []
    },
    {
      "cell_type": "code",
      "source": [
        "transactions = []\n",
        "for _, row in data.iterrows():\n",
        "    items = [str(item) for item in row if pd.notna(item)]\n",
        "    transactions.extend(items)\n",
        "#adding the above data to a new dataframe\n",
        "new_data = pd.DataFrame(transactions, columns=['Item'])\n",
        "new_data"
      ],
      "metadata": {
        "id": "161FOZFF2lDY"
      },
      "execution_count": null,
      "outputs": []
    },
    {
      "cell_type": "markdown",
      "source": [
        "Adding a new column quantity the data."
      ],
      "metadata": {
        "id": "HHUc3-0253i0"
      }
    },
    {
      "cell_type": "code",
      "source": [
        "new_data['Quantity']=1\n",
        "new_data"
      ],
      "metadata": {
        "id": "S8Z4P0N020I0"
      },
      "execution_count": null,
      "outputs": []
    },
    {
      "cell_type": "markdown",
      "source": [
        "Product popularity visualization"
      ],
      "metadata": {
        "id": "vYmBuFml58-n"
      }
    },
    {
      "cell_type": "code",
      "source": [
        "x = new_data['Item'].value_counts().sort_values(ascending=False)[:10]\n",
        "x"
      ],
      "metadata": {
        "id": "9eakUo6vispD"
      },
      "execution_count": null,
      "outputs": []
    },
    {
      "cell_type": "code",
      "source": [
        "plt.figure(figsize=(10, 6))\n",
        "sns.barplot(x=x.index, y=x.values)\n",
        "plt.xticks(rotation=90)\n",
        "plt.title('Product Popularity')\n",
        "plt.show()"
      ],
      "metadata": {
        "id": "ChKSwdrD7jxB"
      },
      "execution_count": null,
      "outputs": []
    },
    {
      "cell_type": "markdown",
      "source": [
        "Pie chart"
      ],
      "metadata": {
        "id": "62ekpwYSnWJ6"
      }
    },
    {
      "cell_type": "code",
      "source": [
        "plt.figure(figsize=(6, 6))\n",
        "plt.pie(x.values, labels=x.index, autopct='%1.1f%%', startangle=140)\n",
        "plt.title('Itemsets Distribution')\n",
        "plt.axis('equal')\n",
        "plt.show()"
      ],
      "metadata": {
        "id": "1G9ihUO1nXuY"
      },
      "execution_count": null,
      "outputs": []
    },
    {
      "cell_type": "markdown",
      "source": [
        "Apriori Algorithm"
      ],
      "metadata": {
        "id": "QedvJYiFoSFT"
      }
    },
    {
      "cell_type": "code",
      "source": [
        "encoder = TransactionEncoder()\n",
        "transaction_encoded = encoder.fit(transactions).transform(transactions)\n",
        "transaction_df = pd.DataFrame(transaction_encoded, columns=encoder.columns_)\n",
        "frequent_itemsets = apriori(transaction_df, min_support=0.04, use_colnames=True)\n",
        "association_rules_result = association_rules(frequent_itemsets, metric=\"lift\", min_threshold=1.0)\n",
        "\n",
        "print(\"\\nAssociation Rules:\")\n",
        "print(association_rules_result)"
      ],
      "metadata": {
        "colab": {
          "base_uri": "https://localhost:8080/"
        },
        "id": "g_aBvvjqpiWX",
        "outputId": "898b0c19-00bc-4191-9936-4b7365fd1230"
      },
      "execution_count": 15,
      "outputs": [
        {
          "output_type": "stream",
          "name": "stdout",
          "text": [
            "\n",
            "Association Rules:\n",
            "       antecedents                  consequents  antecedent support  \\\n",
            "0              ( )                          (a)            0.469094   \n",
            "1              (a)                          ( )            0.574260   \n",
            "2              ( )                          (b)            0.469094   \n",
            "3              (b)                          ( )            0.172292   \n",
            "4              ( )                          (d)            0.469094   \n",
            "...            ...                          ...                 ...   \n",
            "119665         (e)  ( , t, i, n, w, m, r, a, l)            0.795082   \n",
            "119666         (m)  ( , t, i, n, w, e, r, a, l)            0.261145   \n",
            "119667         (r)  ( , t, i, n, w, e, m, a, l)            0.481116   \n",
            "119668         (a)  ( , t, i, n, w, e, m, r, l)            0.574260   \n",
            "119669         (l)  ( , t, i, n, w, e, m, r, a)            0.348227   \n",
            "\n",
            "        consequent support   support  confidence      lift  leverage  \\\n",
            "0                 0.574260  0.304635    0.649412  1.130867  0.035253   \n",
            "1                 0.469094  0.304635    0.530483  1.130867  0.035253   \n",
            "2                 0.172292  0.117869    0.251271  1.458402  0.037048   \n",
            "3                 0.469094  0.117869    0.684127  1.458402  0.037048   \n",
            "4                 0.112693  0.092259    0.196675  1.745230  0.039395   \n",
            "...                    ...       ...         ...       ...       ...   \n",
            "119665            0.060893  0.060893    0.076587  1.257732  0.012478   \n",
            "119666            0.062494  0.060893    0.233177  3.731211  0.044573   \n",
            "119667            0.060893  0.060893    0.126566  2.078502  0.031596   \n",
            "119668            0.060893  0.060893    0.106037  1.741371  0.025925   \n",
            "119669            0.060893  0.060893    0.174866  2.871687  0.039688   \n",
            "\n",
            "        conviction  zhangs_metric  \n",
            "0         1.214359       0.217972  \n",
            "1         1.130749       0.271816  \n",
            "2         1.105484       0.592041  \n",
            "3         1.680760       0.379745  \n",
            "4         1.104543       0.804303  \n",
            "...            ...            ...  \n",
            "119665    1.016996       1.000000  \n",
            "119666    1.222585       0.990709  \n",
            "119667    1.075190       1.000000  \n",
            "119668    1.050499       1.000000  \n",
            "119669    1.138126       1.000000  \n",
            "\n",
            "[119670 rows x 10 columns]\n"
          ]
        }
      ]
    },
    {
      "cell_type": "code",
      "source": [
        "pivot_table = association_rules_result.pivot(index='antecedents', columns='consequents', values=['support', 'confidence'])\n",
        "\n",
        "pivot_table = pivot_table.fillna(0)\n",
        "\n",
        "plt.figure(figsize=(10, 8))\n",
        "sns.heatmap(pivot_table, annot=True, fmt='.2f', cmap='YlGnBu', cbar=True)\n",
        "plt.title('Association Rules Strength: Support and Confidence')\n",
        "plt.xlabel('Consequents')\n",
        "plt.ylabel('Antecedents')\n",
        "plt.show()"
      ],
      "metadata": {
        "colab": {
          "base_uri": "https://localhost:8080/"
        },
        "id": "a-CooGzcwwXI",
        "outputId": "c8fb959f-7e15-4730-f283-3257504f96ee"
      },
      "execution_count": null,
      "outputs": [
        {
          "output_type": "stream",
          "name": "stderr",
          "text": [
            "/usr/local/lib/python3.10/dist-packages/ipykernel/ipkernel.py:283: DeprecationWarning: `should_run_async` will not call `transform_cell` automatically in the future. Please pass the result to `transformed_cell` argument and any exception that happen during thetransform in `preprocessing_exc_tuple` in IPython 7.17 and above.\n",
            "  and should_run_async(code)\n"
          ]
        }
      ]
    },
    {
      "cell_type": "markdown",
      "source": [
        "Store Layout optimization"
      ],
      "metadata": {
        "id": "RZ1VAtaRyEQP"
      }
    },
    {
      "cell_type": "code",
      "source": [
        "import networkx as nx\n",
        "G = nx.Graph()\n",
        "for _, row in high_confidence_rules.iterrows():\n",
        "    G.add_edge(row['antecedents'], row['consequents'], weight=row['lift'])\n",
        "\n",
        "pos = nx.spring_layout(G)\n",
        "labels = {node: node for node in G.nodes()}\n",
        "nx.draw(G, pos, labels=labels, with_labels=True, node_size=1000, font_size=10, font_color='black')\n",
        "edge_labels = nx.get_edge_attributes(G, 'weight')\n",
        "nx.draw_networkx_edge_labels(G, pos, edge_labels=edge_labels, font_color='red')\n",
        "plt.title('Store Layout Optimization')\n",
        "plt.show()"
      ],
      "metadata": {
        "id": "BOJXjwMvxqPj"
      },
      "execution_count": null,
      "outputs": []
    },
    {
      "cell_type": "markdown",
      "source": [
        "Cross-Selling matrix"
      ],
      "metadata": {
        "id": "KDUAtndpyKgt"
      }
    },
    {
      "cell_type": "code",
      "source": [
        "cross_selling_matrix = pd.pivot_table(association_rules_result, index='antecedents', columns='consequents', values='confidence')\n",
        "\n",
        "plt.figure(figsize=(10, 8))\n",
        "sns.heatmap(cross_selling_matrix, cmap='YlGnBu', annot=True, fmt='.2f', cbar=True)\n",
        "plt.title('Cross-Selling Strategy Matrix')\n",
        "plt.xlabel('Consequents')\n",
        "plt.ylabel('Antecedents')\n",
        "plt.show()"
      ],
      "metadata": {
        "id": "CoVbKCvzyQQD"
      },
      "execution_count": null,
      "outputs": []
    },
    {
      "cell_type": "markdown",
      "source": [
        "Personalized recommedations"
      ],
      "metadata": {
        "id": "5Q8kVj6IzBDs"
      }
    },
    {
      "cell_type": "code",
      "source": [
        "def get_personalized_recommendations(basket):\n",
        "    recommendations = set()\n",
        "    for itemset in frequent_itemsets['itemsets']:\n",
        "        if itemset.issubset(basket):\n",
        "            recommendations.update(itemset)\n",
        "    recommendations -= basket\n",
        "    return recommendations\n",
        "\n",
        "customer_basket = {'shrimp', 'green grapes', 'avocado'}\n",
        "recommended_products = get_personalized_recommendations(customer_basket)\n",
        "print(\"Recommended Products:\", recommended_products)"
      ],
      "metadata": {
        "id": "MOiU860ozDtq"
      },
      "execution_count": null,
      "outputs": []
    },
    {
      "cell_type": "markdown",
      "source": [
        "Cross-selling strategy"
      ],
      "metadata": {
        "id": "-vC8zLLnzu1b"
      }
    },
    {
      "cell_type": "code",
      "source": [
        "average_lift_before = association_rules_df['lift'].mean()\n",
        "simulated_support_increase = 1.1                          # 10% increase\n",
        "frequent_itemsets_simulated = apriori(binary_matrix, min_support=0.05 * simulated_support_increase, use_colnames=True)\n",
        "association_rules_simulated = association_rules(frequent_itemsets_simulated, metric=\"lift\", min_threshold=1)\n",
        "average_lift_after = association_rules_simulated['lift'].mean()\n",
        "\n",
        "lift_improvement = (average_lift_after - average_lift_before) / average_lift_before * 100\n",
        "\n",
        "print(\"Average Lift before cross-selling strategy:\", average_lift_before)\n",
        "print(\"Average Lift after simulated cross-selling strategy:\", average_lift_after)\n",
        "print(\"Lift Improvement:\", lift_improvement, \"%\")"
      ],
      "metadata": {
        "id": "XE0bNwbCz6iB"
      },
      "execution_count": null,
      "outputs": []
    }
  ]
}